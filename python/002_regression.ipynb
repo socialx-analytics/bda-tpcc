{
  "nbformat": 4,
  "nbformat_minor": 0,
  "metadata": {
    "colab": {
      "name": "Regression",
      "provenance": [],
      "collapsed_sections": [],
      "authorship_tag": "ABX9TyNuwbt4zsaXpegtgS29csZQ",
      "include_colab_link": true
    },
    "kernelspec": {
      "name": "python3",
      "display_name": "Python 3"
    },
    "language_info": {
      "name": "python"
    }
  },
  "cells": [
    {
      "cell_type": "markdown",
      "metadata": {
        "id": "view-in-github",
        "colab_type": "text"
      },
      "source": [
        "<a href=\"https://colab.research.google.com/github/socialx-indonesia/bda-tpcc/blob/main/python/002_regression.ipynb\" target=\"_parent\"><img src=\"https://colab.research.google.com/assets/colab-badge.svg\" alt=\"Open In Colab\"/></a>"
      ]
    },
    {
      "cell_type": "markdown",
      "source": [
        "*SocialX Indonesia - Muhammad Apriandito*\n",
        "\n",
        "\n",
        "---\n",
        "\n",
        "\n",
        "\n",
        "\n"
      ],
      "metadata": {
        "id": "hcnZkHT-Q4v6"
      }
    },
    {
      "cell_type": "markdown",
      "source": [
        "# **Regression: House Price Prediction**\n",
        "\n",
        "A property developer in Raccoon city wants to create a model that can predict house prices based on land area (square feet) using simple linear regression."
      ],
      "metadata": {
        "id": "0R_qkwxwMSXO"
      }
    },
    {
      "cell_type": "markdown",
      "source": [
        "#### **Setup**\n",
        "To create the model. we need to install and load python pakcage to be used. Because we use Google Collaboratory where all the packages have been installed, we just need to load the package."
      ],
      "metadata": {
        "id": "_ckglxomNuAP"
      }
    },
    {
      "cell_type": "code",
      "source": [
        "# Load packages\n",
        "import pandas as pd\n",
        "import numpy as np\n",
        "import seaborn as sns\n",
        "import matplotlib.pyplot as plt\n",
        "import warnings\n",
        "\n",
        "# Load modules\n",
        "from sklearn.model_selection import train_test_split\n",
        "from sklearn import linear_model\n",
        "from sklearn.metrics import mean_squared_error, r2_score\n",
        "\n",
        "# Set Parameter\n",
        "plt.rcParams['figure.figsize'] = (16, 9)\n",
        "plt.style.use('ggplot')\n",
        "warnings.filterwarnings('ignore')"
      ],
      "metadata": {
        "id": "9XX7BaGXNtwm"
      },
      "execution_count": null,
      "outputs": []
    },
    {
      "cell_type": "markdown",
      "source": [
        "After the required python packages are installed and loaded, we can load our data into the python environment."
      ],
      "metadata": {
        "id": "WROccPpQONv6"
      }
    },
    {
      "cell_type": "code",
      "execution_count": null,
      "metadata": {
        "id": "1VpL9EQEJWyr"
      },
      "outputs": [],
      "source": [
        "# Import Dataset\n",
        "df = pd.read_csv('https://raw.githubusercontent.com/socialx-indonesia/bda-tpcc/main/data/house-price.csv', sep =\";\")"
      ]
    },
    {
      "cell_type": "markdown",
      "source": [
        "#### **Data Exploration**"
      ],
      "metadata": {
        "id": "1ZbrFwrCrLPx"
      }
    },
    {
      "cell_type": "code",
      "metadata": {
        "id": "LZIImjX5r_10"
      },
      "source": [
        "# Print Data\n",
        "df.head(5)"
      ],
      "execution_count": null,
      "outputs": []
    },
    {
      "cell_type": "code",
      "metadata": {
        "id": "BASodZ_cginw"
      },
      "source": [
        "# Check Data Information\n",
        "df.info()"
      ],
      "execution_count": null,
      "outputs": []
    },
    {
      "cell_type": "code",
      "source": [
        "# Descriptive Statistics\n",
        "df.describe()"
      ],
      "metadata": {
        "id": "lFn82KCBrOY8"
      },
      "execution_count": null,
      "outputs": []
    },
    {
      "cell_type": "code",
      "source": [
        "# Visualize the data using scatterplot\n",
        "sns.scatterplot(x=\"square_feet\", y=\"house_price\", data= df)"
      ],
      "metadata": {
        "id": "-DcXSnc0Ofdu"
      },
      "execution_count": null,
      "outputs": []
    },
    {
      "cell_type": "markdown",
      "source": [
        "#### **Create Simple Linear Regression Model**"
      ],
      "metadata": {
        "id": "-jW_wtWMOsvc"
      }
    },
    {
      "cell_type": "code",
      "source": [
        "# Set Variable\n",
        "X = df[['square_feet']]\n",
        "y = df['house_price']"
      ],
      "metadata": {
        "id": "q9n1md-pOgr_"
      },
      "execution_count": null,
      "outputs": []
    },
    {
      "cell_type": "code",
      "source": [
        "# Split Data\n",
        "X_train, X_test, y_train, y_test = train_test_split(X, y, test_size=0.3)"
      ],
      "metadata": {
        "id": "3H6aE2lBSf12"
      },
      "execution_count": null,
      "outputs": []
    },
    {
      "cell_type": "code",
      "metadata": {
        "id": "Ig8RbR8q6uGP"
      },
      "source": [
        "# Set model\n",
        "regr = linear_model.LinearRegression()\n",
        "regr.fit(X_train, y_train)"
      ],
      "execution_count": null,
      "outputs": []
    },
    {
      "cell_type": "code",
      "metadata": {
        "id": "lFcwDS_u66vg"
      },
      "source": [
        "# Get Intercept and Coefficent \n",
        "print('Intercept: \\n', regr.intercept_)\n",
        "print('Coefficients: \\n', regr.coef_)"
      ],
      "execution_count": null,
      "outputs": []
    },
    {
      "cell_type": "code",
      "metadata": {
        "id": "C5N0fGM28MH-"
      },
      "source": [
        "# Visualize the regression model that has been created\n",
        "plt.scatter(X_train, y_train)\n",
        "plt.plot(X_train, regr.predict(X_train), color = \"green\")\n",
        "plt.show()"
      ],
      "execution_count": null,
      "outputs": []
    },
    {
      "cell_type": "markdown",
      "source": [
        "#### **Model Evaluation**"
      ],
      "metadata": {
        "id": "j0KxSpW_UgPr"
      }
    },
    {
      "cell_type": "code",
      "source": [
        "# Make a prediction to test data\n",
        "y_pred = regr.predict(X_test)"
      ],
      "metadata": {
        "id": "m95gS0S6TToJ"
      },
      "execution_count": null,
      "outputs": []
    },
    {
      "cell_type": "code",
      "source": [
        "# Create a dataframe\n",
        "prediction_result = pd.DataFrame({'Actual': y_test, 'Predicted': y_pred})\n",
        "prediction_result"
      ],
      "metadata": {
        "id": "SWfSuuZkTcXW"
      },
      "execution_count": null,
      "outputs": []
    },
    {
      "cell_type": "code",
      "source": [
        "print(\"MSE:\",  mean_squared_error(y_test, y_pred))\n",
        "print(\"R2:\",  r2_score(y_test, y_pred))\n",
        "print('RMSE:', np.sqrt(mean_squared_error(y_test, y_pred)))"
      ],
      "metadata": {
        "id": "vzySunCARzo9"
      },
      "execution_count": null,
      "outputs": []
    },
    {
      "cell_type": "markdown",
      "source": [
        "#### **Deployment**"
      ],
      "metadata": {
        "id": "HbS8xmjbUoXw"
      }
    },
    {
      "cell_type": "code",
      "metadata": {
        "id": "oKqYly0T6_Ga"
      },
      "source": [
        "# Make a prediction to a new data\n",
        "new_square_feet = 2000\n",
        "print ('Predicted  house price: \\n', regr.predict([[new_square_feet]]))"
      ],
      "execution_count": null,
      "outputs": []
    }
  ]
}