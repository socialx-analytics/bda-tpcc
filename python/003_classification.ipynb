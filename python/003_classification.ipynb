{
  "nbformat": 4,
  "nbformat_minor": 0,
  "metadata": {
    "colab": {
      "name": "Classification",
      "provenance": [],
      "collapsed_sections": [],
      "include_colab_link": true
    },
    "kernelspec": {
      "name": "python3",
      "display_name": "Python 3"
    },
    "language_info": {
      "name": "python"
    }
  },
  "cells": [
    {
      "cell_type": "markdown",
      "metadata": {
        "id": "view-in-github",
        "colab_type": "text"
      },
      "source": [
        "<a href=\"https://colab.research.google.com/github/socialx-indonesia/bda-tpcc/blob/main/python/003_classification.ipynb\" target=\"_parent\"><img src=\"https://colab.research.google.com/assets/colab-badge.svg\" alt=\"Open In Colab\"/></a>"
      ]
    },
    {
      "cell_type": "markdown",
      "source": [
        "*SocialX Indonesia - Muhammad Apriandito*\n",
        "\n",
        "\n",
        "---\n",
        "\n",
        "\n",
        "\n",
        "\n"
      ],
      "metadata": {
        "id": "SqI8eyXwgj3M"
      }
    },
    {
      "cell_type": "markdown",
      "metadata": {
        "id": "geLUJqcEoaO-"
      },
      "source": [
        "# **Classification: Predicting Customer Churn**\n",
        "Getting customers is the main goal of business. However, retaining customers is a different matter. In increasingly competitive business conditions, a company will be left behind if it cannot take care of its customers. If that happens, then all efforts will be in vain. In this case, the Company must avoid customer churn. In short, customer churn is the most critical factor that any business should continue to evaluate, especially for a growing business. Customer churn, also known as customer attrition, is when customers stop using business products and services.\n",
        "\n",
        "A telecommunication company has a customer churn problem. They found that their customer churn rate was very high, and the Company realized that they had to find a solution to lower this churn rate.\n",
        "\n",
        "The Company provided 7043 customer data for analysis. The dataset contains information about:"
      ]
    },
    {
      "cell_type": "markdown",
      "metadata": {
        "id": "B9F8tXQzjEF4"
      },
      "source": [
        "* Customers who left within the last month – the column is called Churn\n",
        "\n",
        "* Services that each customer has signed up for – phone, multiple lines, internet, online security, online backup, device protection, tech support, and streaming TV and movies\n",
        "\n",
        "* Customer account information – how long they’ve been a customer, contract, payment method, paperless billing, monthly charges, and total charges\n",
        "\n",
        "* Demographic info about customers – gender, age range, and if they have partners and dependents"
      ]
    },
    {
      "cell_type": "markdown",
      "metadata": {
        "id": "O-yU2ZGupKgy"
      },
      "source": [
        "### **Import Data**"
      ]
    },
    {
      "cell_type": "markdown",
      "metadata": {
        "id": "EQPQ0AOFn5gR"
      },
      "source": [
        "The first step is to import the data provided by the management into python environment. To do this, all the required packages must be installed and loaded. Because we use Google Collaboratory where all the packages have been installed, we just need to load the package."
      ]
    },
    {
      "cell_type": "code",
      "metadata": {
        "id": "3LnjbBxXx0vz"
      },
      "source": [
        "# Load packages\n",
        "import pandas as pd\n",
        "import seaborn as sns\n",
        "import matplotlib.pyplot as plt\n",
        "import random\n",
        "import warnings\n",
        "\n",
        "# Load modules\n",
        "from sklearn.model_selection import train_test_split, cross_val_score\n",
        "from sklearn import tree\n",
        "from sklearn.naive_bayes import GaussianNB \n",
        "from sklearn import metrics\n",
        "\n",
        "# Set Parameter\n",
        "random.seed(10)\n",
        "plt.rcParams['figure.figsize'] = (16, 9)\n",
        "warnings.filterwarnings('ignore')"
      ],
      "execution_count": null,
      "outputs": []
    },
    {
      "cell_type": "code",
      "metadata": {
        "id": "pa0blw2s6G7X"
      },
      "source": [
        "# Import Data to Google Colab\n",
        "df = pd.read_csv('https://raw.githubusercontent.com/socialx-indonesia/bda-tpcc/main/data/customer_churn.csv', sep = ';')"
      ],
      "execution_count": null,
      "outputs": []
    },
    {
      "cell_type": "code",
      "metadata": {
        "id": "FLYSrAIarhkU"
      },
      "source": [
        "# Show 5 first Row\n",
        "df.head()"
      ],
      "execution_count": null,
      "outputs": []
    },
    {
      "cell_type": "code",
      "metadata": {
        "id": "kGOqBrwfxGsG"
      },
      "source": [
        "# Prints the dataset information\n",
        "df.info()"
      ],
      "execution_count": null,
      "outputs": []
    },
    {
      "cell_type": "markdown",
      "metadata": {
        "id": "ovdislrOmxw7"
      },
      "source": [
        "### **Data Exploration**\n",
        "At the initial stage, the management wants to know the information on the number of customers who churn and determine why they churn by comparing the variables in the data such as gender, partnership, type of contract, duration of the contract, and contract others."
      ]
    },
    {
      "cell_type": "code",
      "metadata": {
        "id": "Gj9BRffz_ZMS"
      },
      "source": [
        "sns.countplot(x=\"Churn\", \n",
        "              data=df)"
      ],
      "execution_count": null,
      "outputs": []
    },
    {
      "cell_type": "code",
      "metadata": {
        "id": "xYtTUN6G9ynk"
      },
      "source": [
        "sns.countplot(x=\"gender\",\n",
        "              hue=\"Churn\", \n",
        "              data=df)"
      ],
      "execution_count": null,
      "outputs": []
    },
    {
      "cell_type": "code",
      "metadata": {
        "id": "e6yBqCtUsxuh"
      },
      "source": [
        "sns.countplot(x=\"InternetService\",\n",
        "              hue=\"Churn\",\n",
        "              data=df)"
      ],
      "execution_count": null,
      "outputs": []
    },
    {
      "cell_type": "code",
      "metadata": {
        "id": "lxO6cAWQ-KL1"
      },
      "source": [
        "sns.countplot(x=\"StreamingTV\",\n",
        "              hue=\"Churn\",\n",
        "              data = df)"
      ],
      "execution_count": null,
      "outputs": []
    },
    {
      "cell_type": "markdown",
      "metadata": {
        "id": "I3lxj0jrqLhk"
      },
      "source": [
        "### **Make a Customer Churn Prediction Model using Machine Learning**\n",
        "The information you provide during data exploration is not satisfactory for management. Knowing that customers who do not subscribe to the internet are less likely to churn is not actionable for the manager. Management wants to have a more actionable solution. They want to predict whether a customer will churn or not immediately. By knowing which customer will churn or not, management can prevent customer churn earlier.\n",
        "\n",
        "Machine learning is a sub-area of ​​AI that allows computers to learn on their own from given data. In this case, machine learning is expected to learn customer churn patterns, making it a model that can predict whether customers will churn or not in the future.\n",
        "\n",
        "The stages of making a machine learning model consisting of 2 parts, training and testing. The training aims to extract existing patterns in the data, and testing aims to evaluate the model’s ability to make predictions."
      ]
    },
    {
      "cell_type": "markdown",
      "metadata": {
        "id": "WJU3ZR80s8ns"
      },
      "source": [
        "#### **Data Preprocessing**"
      ]
    },
    {
      "cell_type": "markdown",
      "metadata": {
        "id": "WtGKwoaCpeAs"
      },
      "source": [
        "#### **Set Feature and Target**"
      ]
    },
    {
      "cell_type": "code",
      "metadata": {
        "id": "awfUHmfrph6W"
      },
      "source": [
        "# Select Features\n",
        "feature = df[['Partner', 'tenure', 'MonthlyCharges']]"
      ],
      "execution_count": null,
      "outputs": []
    },
    {
      "cell_type": "code",
      "metadata": {
        "id": "bu1COTYDqVoC"
      },
      "source": [
        "# Select Target\n",
        "target = df['Churn']"
      ],
      "execution_count": null,
      "outputs": []
    },
    {
      "cell_type": "markdown",
      "metadata": {
        "id": "jKGonYC7qhGA"
      },
      "source": [
        "#### **Set Training and Testing Data**\n",
        "Before being modeled, the data must be divided into two part: the train data to make the model and the test data to test the model’s performance. Generally, the data is divided by the proportion: 70% train and 30% test.\n"
      ]
    },
    {
      "cell_type": "code",
      "metadata": {
        "id": "td_W4NOBqpCI"
      },
      "source": [
        "# Set Training and Testing Data (70:30)\n",
        "X_train, X_test, y_train, y_test  = train_test_split(feature , target, shuffle = True, test_size=0.3)\n",
        "\n",
        "# Show the Training and Testing Data\n",
        "print(X_train.shape)\n",
        "print(X_test.shape)\n",
        "print(y_train.shape)\n",
        "print(y_test.shape)"
      ],
      "execution_count": null,
      "outputs": []
    },
    {
      "cell_type": "markdown",
      "metadata": {
        "id": "XBpuFXsXxoOW"
      },
      "source": [
        "#### **Training: Creating The Prediction Model**\n",
        "The next step is to determine what algorithm we will use to make classification predictions. In this module, we will use a decision tree, and naive bayes algorithm. "
      ]
    },
    {
      "cell_type": "code",
      "metadata": {
        "id": "T_97Grv1xHky"
      },
      "source": [
        "# Modeling Decision Tree\n",
        "dtc = tree.DecisionTreeClassifier(min_impurity_decrease=0.01)\n",
        "dtc.fit(X_train, y_train)\n",
        "\n",
        "# Predict to Test Data \n",
        "y_pred_dtc = dtc.predict(X_test)"
      ],
      "execution_count": null,
      "outputs": []
    },
    {
      "cell_type": "code",
      "metadata": {
        "id": "dhyV9oiBxYaR"
      },
      "source": [
        "# Modeling Naive Bayes Classifier\n",
        "gnb = GaussianNB()\n",
        "gnb.fit(X_train, y_train)\n",
        "\n",
        "# Predict to Test Data\n",
        "y_pred_gnb= gnb.predict(X_test)"
      ],
      "execution_count": null,
      "outputs": []
    },
    {
      "cell_type": "markdown",
      "metadata": {
        "id": "VNq_EvrF6mqI"
      },
      "source": [
        "#### **Testing: Evaluate the Model**\n",
        "The last step is to do an evaluation model. This assessment measures how well our model predicts by comparing the predicted value with the actual value."
      ]
    },
    {
      "cell_type": "code",
      "metadata": {
        "id": "w_rz7ila-Syg"
      },
      "source": [
        "# Show the Accuracy, Precision, Recall\n",
        "acc_dtc = metrics.accuracy_score(y_test, y_pred_dtc)\n",
        "prec_dtc = metrics.precision_score(y_test, y_pred_dtc)\n",
        "rec_dtc = metrics.recall_score(y_test, y_pred_dtc)\n",
        "f1_dtc = metrics.f1_score(y_test, y_pred_dtc)\n",
        "kappa_dtc = metrics.cohen_kappa_score(y_test, y_pred_dtc)\n",
        "\n",
        "print(\"Accuracy:\", acc_dtc)\n",
        "print(\"Precision:\", prec_dtc)\n",
        "print(\"Recall:\", rec_dtc)\n",
        "print(\"F1 Score:\", f1_dtc)\n",
        "print(\"Cohens Kappa Score:\", kappa_dtc)"
      ],
      "execution_count": null,
      "outputs": []
    },
    {
      "cell_type": "code",
      "metadata": {
        "id": "Si-ChfoO54Aa"
      },
      "source": [
        "# Show the Accuracy, Precision, Recall\n",
        "acc_gnb = metrics.accuracy_score(y_test, y_pred_gnb)\n",
        "prec_gnb = metrics.precision_score(y_test, y_pred_gnb)\n",
        "rec_gnb = metrics.recall_score(y_test, y_pred_gnb)\n",
        "f1_gnb = metrics.f1_score(y_test, y_pred_gnb)\n",
        "kappa_gnb = metrics.cohen_kappa_score(y_test, y_pred_gnb)\n",
        "\n",
        "print(\"Accuracy:\", acc_gnb)\n",
        "print(\"Precision:\", prec_gnb)\n",
        "print(\"Recall:\", rec_gnb)\n",
        "print(\"F1 Score:\", f1_gnb)\n",
        "print(\"Cohens Kappa Score:\", kappa_gnb)"
      ],
      "execution_count": null,
      "outputs": []
    },
    {
      "cell_type": "markdown",
      "metadata": {
        "id": "zkqLGjQa-XD3"
      },
      "source": [
        "As we can see above, the performance of the 2 models above is different. The model with the best performance is the nb model which has an accuracy of 75%"
      ]
    },
    {
      "cell_type": "markdown",
      "metadata": {
        "id": "mXFAD0nz-eN5"
      },
      "source": [
        "#### **Deployment**\n",
        "This month there are a new customers, please check if the customer will churn or not."
      ]
    },
    {
      "cell_type": "code",
      "metadata": {
        "id": "Onx7ompl-pVI"
      },
      "source": [
        "# Create new data\n",
        "df_new = pd.DataFrame([[1, 1, 2985]], columns = ['Partner', 'tenure', 'TotalCharges'])\n",
        "df_new"
      ],
      "execution_count": null,
      "outputs": []
    },
    {
      "cell_type": "code",
      "metadata": {
        "id": "oByIzqLCAJ9f"
      },
      "source": [
        "# Predict using Naive Bayes Classifier\n",
        "predicted_nb = pd.DataFrame(gnb.predict(df_new), columns = ['churn'])\n",
        "pred_churn = pd.concat([df_new, predicted_nb], axis=1)\n",
        "\n",
        "# Shoe Prediction\n",
        "pred_churn.head()"
      ],
      "execution_count": null,
      "outputs": []
    }
  ]
}